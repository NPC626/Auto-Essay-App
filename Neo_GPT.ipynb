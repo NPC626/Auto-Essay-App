{
  "cells": [
    {
      "cell_type": "code",
      "source": [
        "!pip install torch==1.8.1+cu111 torchvision==0.9.1+cu111 torchaudio===0.8.1 -f https://download.pytorch.org/whl/torch_stable.html"
      ],
      "outputs": [
        {
          "output_type": "stream",
          "name": "stdout",
          "text": "Looking in links: https://download.pytorch.org/whl/torch_stable.html\r\nRequirement already satisfied: torch==1.8.1+cu111 in /anaconda/envs/azureml_py36/lib/python3.6/site-packages (1.8.1+cu111)\r\nRequirement already satisfied: torchvision==0.9.1+cu111 in /anaconda/envs/azureml_py36/lib/python3.6/site-packages (0.9.1+cu111)\r\nRequirement already satisfied: torchaudio===0.8.1 in /anaconda/envs/azureml_py36/lib/python3.6/site-packages (0.8.1)\r\nRequirement already satisfied: numpy in /anaconda/envs/azureml_py36/lib/python3.6/site-packages (from torch==1.8.1+cu111) (1.18.5)\r\nRequirement already satisfied: typing-extensions in /anaconda/envs/azureml_py36/lib/python3.6/site-packages (from torch==1.8.1+cu111) (4.0.1)\r\nRequirement already satisfied: dataclasses; python_version < \"3.7\" in /anaconda/envs/azureml_py36/lib/python3.6/site-packages (from torch==1.8.1+cu111) (0.6)\r\nRequirement already satisfied: pillow>=4.1.1 in /anaconda/envs/azureml_py36/lib/python3.6/site-packages (from torchvision==0.9.1+cu111) (8.0.0)\r\n"
        }
      ],
      "execution_count": 1,
      "metadata": {}
    },
    {
      "cell_type": "code",
      "source": [
        "!pip install transformers "
      ],
      "outputs": [
        {
          "output_type": "stream",
          "name": "stdout",
          "text": "Requirement already up-to-date: transformers in /anaconda/envs/azureml_py36/lib/python3.6/site-packages (4.16.2)\nRequirement already satisfied, skipping upgrade: numpy>=1.17 in /anaconda/envs/azureml_py36/lib/python3.6/site-packages (from transformers) (1.18.5)\nRequirement already satisfied, skipping upgrade: tokenizers!=0.11.3,>=0.10.1 in /anaconda/envs/azureml_py36/lib/python3.6/site-packages (from transformers) (0.10.3)\nRequirement already satisfied, skipping upgrade: tqdm>=4.27 in /anaconda/envs/azureml_py36/lib/python3.6/site-packages (from transformers) (4.62.3)\nRequirement already satisfied, skipping upgrade: importlib-metadata; python_version < \"3.8\" in /anaconda/envs/azureml_py36/lib/python3.6/site-packages (from transformers) (4.8.3)\nRequirement already satisfied, skipping upgrade: sacremoses in /anaconda/envs/azureml_py36/lib/python3.6/site-packages (from transformers) (0.0.47)\nRequirement already satisfied, skipping upgrade: requests in /anaconda/envs/azureml_py36/lib/python3.6/site-packages (from transformers) (2.27.1)\nRequirement already satisfied, skipping upgrade: packaging>=20.0 in /anaconda/envs/azureml_py36/lib/python3.6/site-packages (from transformers) (21.3)\nRequirement already satisfied, skipping upgrade: dataclasses; python_version < \"3.7\" in /anaconda/envs/azureml_py36/lib/python3.6/site-packages (from transformers) (0.6)\nRequirement already satisfied, skipping upgrade: pyyaml>=5.1 in /anaconda/envs/azureml_py36/lib/python3.6/site-packages (from transformers) (6.0)\nRequirement already satisfied, skipping upgrade: filelock in /anaconda/envs/azureml_py36/lib/python3.6/site-packages (from transformers) (3.4.1)\nRequirement already satisfied, skipping upgrade: huggingface-hub<1.0,>=0.1.0 in /anaconda/envs/azureml_py36/lib/python3.6/site-packages (from transformers) (0.4.0)\nRequirement already satisfied, skipping upgrade: regex!=2019.12.17 in /anaconda/envs/azureml_py36/lib/python3.6/site-packages (from transformers) (2022.1.18)\nRequirement already satisfied, skipping upgrade: zipp>=0.5 in /anaconda/envs/azureml_py36/lib/python3.6/site-packages (from importlib-metadata; python_version < \"3.8\"->transformers) (3.6.0)\nRequirement already satisfied, skipping upgrade: typing-extensions>=3.6.4; python_version < \"3.8\" in /anaconda/envs/azureml_py36/lib/python3.6/site-packages (from importlib-metadata; python_version < \"3.8\"->transformers) (4.0.1)\nRequirement already satisfied, skipping upgrade: click in /anaconda/envs/azureml_py36/lib/python3.6/site-packages (from sacremoses->transformers) (8.0.3)\nRequirement already satisfied, skipping upgrade: six in /anaconda/envs/azureml_py36/lib/python3.6/site-packages (from sacremoses->transformers) (1.16.0)\nRequirement already satisfied, skipping upgrade: joblib in /anaconda/envs/azureml_py36/lib/python3.6/site-packages (from sacremoses->transformers) (0.14.1)\nRequirement already satisfied, skipping upgrade: idna<4,>=2.5; python_version >= \"3\" in /anaconda/envs/azureml_py36/lib/python3.6/site-packages (from requests->transformers) (3.3)\nRequirement already satisfied, skipping upgrade: certifi>=2017.4.17 in /anaconda/envs/azureml_py36/lib/python3.6/site-packages (from requests->transformers) (2021.10.8)\nRequirement already satisfied, skipping upgrade: charset-normalizer~=2.0.0; python_version >= \"3\" in /anaconda/envs/azureml_py36/lib/python3.6/site-packages (from requests->transformers) (2.0.10)\nRequirement already satisfied, skipping upgrade: urllib3<1.27,>=1.21.1 in /anaconda/envs/azureml_py36/lib/python3.6/site-packages (from requests->transformers) (1.26.7)\nRequirement already satisfied, skipping upgrade: pyparsing!=3.0.5,>=2.0.2 in /anaconda/envs/azureml_py36/lib/python3.6/site-packages (from packaging>=20.0->transformers) (3.0.6)\n"
        }
      ],
      "execution_count": 2,
      "metadata": {
        "jupyter": {
          "source_hidden": false,
          "outputs_hidden": false
        },
        "nteract": {
          "transient": {
            "deleting": false
          }
        }
      }
    },
    {
      "cell_type": "code",
      "source": [
        "# !pip install spacy-transformers"
      ],
      "outputs": [],
      "execution_count": 3,
      "metadata": {
        "jupyter": {
          "source_hidden": false,
          "outputs_hidden": false
        },
        "nteract": {
          "transient": {
            "deleting": false
          }
        },
        "gather": {
          "logged": 1645937005302
        }
      }
    },
    {
      "cell_type": "code",
      "source": [
        "import pickle\r\n",
        "import joblib"
      ],
      "outputs": [],
      "execution_count": 9,
      "metadata": {
        "jupyter": {
          "source_hidden": false,
          "outputs_hidden": false
        },
        "nteract": {
          "transient": {
            "deleting": false
          }
        },
        "gather": {
          "logged": 1645937402756
        }
      }
    },
    {
      "cell_type": "code",
      "source": [
        "from transformers import pipeline"
      ],
      "outputs": [],
      "execution_count": 5,
      "metadata": {
        "jupyter": {
          "source_hidden": false,
          "outputs_hidden": true
        },
        "nteract": {
          "transient": {
            "deleting": false
          }
        },
        "gather": {
          "logged": 1645937013992
        }
      }
    },
    {
      "cell_type": "code",
      "source": [
        "generator = pipeline('text-generation', model='EleutherAI/gpt-neo-2.7B') # Second line"
      ],
      "outputs": [],
      "execution_count": 6,
      "metadata": {
        "jupyter": {
          "source_hidden": false,
          "outputs_hidden": false
        },
        "nteract": {
          "transient": {
            "deleting": false
          }
        },
        "gather": {
          "logged": 1645937071168
        }
      }
    },
    {
      "cell_type": "code",
      "source": [
        "joblib.dump(generator, 'path.x')\r\n"
      ],
      "outputs": [],
      "execution_count": 10,
      "metadata": {
        "jupyter": {
          "source_hidden": false,
          "outputs_hidden": false
        },
        "nteract": {
          "transient": {
            "deleting": false
          }
        }
      }
    },
    {
      "cell_type": "code",
      "source": [
        "pickle.dump(generator,'wb')"
      ],
      "outputs": [
        {
          "output_type": "error",
          "ename": "TypeError",
          "evalue": "file must have a 'write' attribute",
          "traceback": [
            "\u001b[0;31m---------------------------------------------------------------------------\u001b[0m",
            "\u001b[0;31mTypeError\u001b[0m                                 Traceback (most recent call last)",
            "\u001b[0;32m<ipython-input-8-927ab292a06e>\u001b[0m in \u001b[0;36m<module>\u001b[0;34m\u001b[0m\n\u001b[0;32m----> 1\u001b[0;31m \u001b[0mpickle\u001b[0m\u001b[0;34m.\u001b[0m\u001b[0mdump\u001b[0m\u001b[0;34m(\u001b[0m\u001b[0mgenerator\u001b[0m\u001b[0;34m,\u001b[0m\u001b[0;34m'wb'\u001b[0m\u001b[0;34m)\u001b[0m\u001b[0;34m\u001b[0m\u001b[0;34m\u001b[0m\u001b[0m\n\u001b[0m",
            "\u001b[0;31mTypeError\u001b[0m: file must have a 'write' attribute"
          ]
        }
      ],
      "execution_count": 8,
      "metadata": {
        "jupyter": {
          "source_hidden": false,
          "outputs_hidden": false
        },
        "nteract": {
          "transient": {
            "deleting": false
          }
        }
      }
    },
    {
      "cell_type": "code",
      "source": [
        "prompt = \"The chernobyl disaster\" # Third line"
      ],
      "outputs": [],
      "execution_count": null,
      "metadata": {
        "jupyter": {
          "source_hidden": false,
          "outputs_hidden": false
        },
        "nteract": {
          "transient": {
            "deleting": false
          }
        },
        "gather": {
          "logged": 1645898619068
        }
      }
    },
    {
      "cell_type": "code",
      "source": [
        "res = generator(prompt, max_length=1000, do_sample=True, temperature=0.9) # Fourth line"
      ],
      "outputs": [],
      "execution_count": null,
      "metadata": {
        "jupyter": {
          "source_hidden": false,
          "outputs_hidden": false
        },
        "nteract": {
          "transient": {
            "deleting": false
          }
        },
        "gather": {
          "logged": 1645898999680
        }
      }
    },
    {
      "cell_type": "code",
      "source": [
        "print(res[0]['generated_text'])"
      ],
      "outputs": [],
      "execution_count": null,
      "metadata": {
        "jupyter": {
          "source_hidden": false,
          "outputs_hidden": false
        },
        "nteract": {
          "transient": {
            "deleting": false
          }
        },
        "gather": {
          "logged": 1645899091975
        }
      }
    },
    {
      "cell_type": "code",
      "source": [
        "\r\n",
        "\r\n",
        "with open('gpttext.txt', 'w') as f:\r\n",
        "    f.writelines(res[0]['generated_text'])\r\n",
        "\r\n"
      ],
      "outputs": [],
      "execution_count": null,
      "metadata": {
        "jupyter": {
          "source_hidden": false,
          "outputs_hidden": false
        },
        "nteract": {
          "transient": {
            "deleting": false
          }
        }
      }
    },
    {
      "cell_type": "code",
      "source": [
        "!pip install torch==1.8.1+cu111 torchvision==0.9.1+cu111 torchaudio===0.8.1 -f https://download.pytorch.org/whl/torch_stable.html\r\n",
        "!pip install transformers -U\r\n",
        "\r\n",
        "from transformers import pipeline\r\n",
        "\r\n",
        "generator = pipeline('text-generation', model='EleutherAI/gpt-neo-2.7B') # Second line\r\n",
        "\r\n"
      ],
      "outputs": [],
      "execution_count": null,
      "metadata": {
        "jupyter": {
          "source_hidden": false,
          "outputs_hidden": false
        },
        "nteract": {
          "transient": {
            "deleting": false
          }
        }
      }
    }
  ],
  "metadata": {
    "kernelspec": {
      "name": "python3-azureml",
      "language": "python",
      "display_name": "Python 3.6 - AzureML"
    },
    "language_info": {
      "name": "python",
      "version": "3.6.9",
      "mimetype": "text/x-python",
      "codemirror_mode": {
        "name": "ipython",
        "version": 3
      },
      "pygments_lexer": "ipython3",
      "nbconvert_exporter": "python",
      "file_extension": ".py"
    },
    "kernel_info": {
      "name": "python3-azureml"
    },
    "nteract": {
      "version": "nteract-front-end@1.0.0"
    }
  },
  "nbformat": 4,
  "nbformat_minor": 2
}